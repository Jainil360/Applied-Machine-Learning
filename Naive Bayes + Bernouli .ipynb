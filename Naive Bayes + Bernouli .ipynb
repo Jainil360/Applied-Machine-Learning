{
 "cells": [
  {
   "cell_type": "markdown",
   "metadata": {},
   "source": [
    "# Naive Bayes \n"
   ]
  },
  {
   "cell_type": "code",
   "execution_count": 2,
   "metadata": {},
   "outputs": [
    {
     "name": "stdout",
     "output_type": "stream",
     "text": [
      "############### Predictions #################\n",
      "[0 0 0 0 0 0 0 0 0 0 0 0 0 0 0 0 0 0 0 0 0 0 0 0 0 1 1 1 1 1 1 1 1 1 1 1 1\n",
      " 1 2 1 1 1 1 1 1 1 1 1 1 1 2 2 2 2 2 2 2 2 2 1 2 2 2 2 2 2 1 2 2 2 2 2 2 2\n",
      " 2]\n",
      "#############################################\n",
      "Accuracy: 0.96\n",
      "              precision    recall  f1-score   support\n",
      "\n",
      "           0       1.00      1.00      1.00        25\n",
      "           1       0.92      0.96      0.94        25\n",
      "           2       0.96      0.92      0.94        25\n",
      "\n",
      "    accuracy                           0.96        75\n",
      "   macro avg       0.96      0.96      0.96        75\n",
      "weighted avg       0.96      0.96      0.96        75\n",
      "\n",
      "[[25  0  0]\n",
      " [ 0 24  1]\n",
      " [ 0  2 23]]\n"
     ]
    }
   ],
   "source": [
    "import numpy\n",
    "from sklearn import datasets, metrics\n",
    "from sklearn.naive_bayes import GaussianNB\n",
    "X,y=datasets.load_iris(return_X_y=True)\n",
    "# print(X)\n",
    "# print(y)\n",
    "X_train=X[range(0,150,2),:]   \n",
    "y_train=y[range(0,150,2)]\n",
    "X_test=X[range(1,150,2),:]\n",
    "y_test=y[range(1,150,2)]\n",
    "clf = GaussianNB() #creating instance of a classifier #BernoulliNB() for BernouliNB\n",
    "#MultinomialNB() for MultinomialNB()\n",
    "clf.fit(X_train, y_train)\n",
    "prediction = clf.predict(X_test) #predict using the learnt classifier\n",
    "print(\"############### Predictions #################\")\n",
    "print(prediction)\n",
    "print(\"#############################################\")\n",
    "print(\"Accuracy:\",metrics.accuracy_score(y_test, prediction, normalize=True))\n",
    "print(metrics.classification_report(y_test, prediction))\n",
    "print(metrics.confusion_matrix(y_test, prediction))"
   ]
  },
  {
   "cell_type": "markdown",
   "metadata": {},
   "source": [
    "# Bernouli\n"
   ]
  },
  {
   "cell_type": "code",
   "execution_count": 22,
   "metadata": {
    "scrolled": true
   },
   "outputs": [
    {
     "name": "stdout",
     "output_type": "stream",
     "text": [
      "Vocabulary:  {'jainil': 7, 'like': 8, 'football': 2, 'sports': 9, 'is': 6, 'good': 4, 'for': 3, 'health': 5, 'cricket': 0, 'too': 10, 'do': 1, 'you': 11}\n",
      "Encoded Document is:\n",
      "[[0 0 1 0 0 0 0 1 1 0 0 0]\n",
      " [0 0 0 1 1 1 1 0 0 1 0 0]\n",
      " [1 0 0 0 0 0 0 1 1 0 1 0]\n",
      " [0 1 1 0 0 0 0 0 1 0 0 1]]\n"
     ]
    },
    {
     "data": {
      "text/html": [
       "<div>\n",
       "<style scoped>\n",
       "    .dataframe tbody tr th:only-of-type {\n",
       "        vertical-align: middle;\n",
       "    }\n",
       "\n",
       "    .dataframe tbody tr th {\n",
       "        vertical-align: top;\n",
       "    }\n",
       "\n",
       "    .dataframe thead th {\n",
       "        text-align: right;\n",
       "    }\n",
       "</style>\n",
       "<table border=\"1\" class=\"dataframe\">\n",
       "  <thead>\n",
       "    <tr style=\"text-align: right;\">\n",
       "      <th></th>\n",
       "      <th>cricket</th>\n",
       "      <th>do</th>\n",
       "      <th>football</th>\n",
       "      <th>for</th>\n",
       "      <th>good</th>\n",
       "      <th>health</th>\n",
       "      <th>is</th>\n",
       "      <th>jainil</th>\n",
       "      <th>like</th>\n",
       "      <th>sports</th>\n",
       "      <th>too</th>\n",
       "      <th>you</th>\n",
       "    </tr>\n",
       "  </thead>\n",
       "  <tbody>\n",
       "    <tr>\n",
       "      <th>0</th>\n",
       "      <td>0</td>\n",
       "      <td>0</td>\n",
       "      <td>1</td>\n",
       "      <td>0</td>\n",
       "      <td>0</td>\n",
       "      <td>0</td>\n",
       "      <td>0</td>\n",
       "      <td>1</td>\n",
       "      <td>1</td>\n",
       "      <td>0</td>\n",
       "      <td>0</td>\n",
       "      <td>0</td>\n",
       "    </tr>\n",
       "    <tr>\n",
       "      <th>1</th>\n",
       "      <td>0</td>\n",
       "      <td>0</td>\n",
       "      <td>0</td>\n",
       "      <td>1</td>\n",
       "      <td>1</td>\n",
       "      <td>1</td>\n",
       "      <td>1</td>\n",
       "      <td>0</td>\n",
       "      <td>0</td>\n",
       "      <td>1</td>\n",
       "      <td>0</td>\n",
       "      <td>0</td>\n",
       "    </tr>\n",
       "    <tr>\n",
       "      <th>2</th>\n",
       "      <td>1</td>\n",
       "      <td>0</td>\n",
       "      <td>0</td>\n",
       "      <td>0</td>\n",
       "      <td>0</td>\n",
       "      <td>0</td>\n",
       "      <td>0</td>\n",
       "      <td>1</td>\n",
       "      <td>1</td>\n",
       "      <td>0</td>\n",
       "      <td>1</td>\n",
       "      <td>0</td>\n",
       "    </tr>\n",
       "    <tr>\n",
       "      <th>3</th>\n",
       "      <td>0</td>\n",
       "      <td>1</td>\n",
       "      <td>1</td>\n",
       "      <td>0</td>\n",
       "      <td>0</td>\n",
       "      <td>0</td>\n",
       "      <td>0</td>\n",
       "      <td>0</td>\n",
       "      <td>1</td>\n",
       "      <td>0</td>\n",
       "      <td>0</td>\n",
       "      <td>1</td>\n",
       "    </tr>\n",
       "  </tbody>\n",
       "</table>\n",
       "</div>"
      ],
      "text/plain": [
       "   cricket  do  football  for  good  health  is  jainil  like  sports  too  \\\n",
       "0        0   0         1    0     0       0   0       1     1       0    0   \n",
       "1        0   0         0    1     1       1   1       0     0       1    0   \n",
       "2        1   0         0    0     0       0   0       1     1       0    1   \n",
       "3        0   1         1    0     0       0   0       0     1       0    0   \n",
       "\n",
       "   you  \n",
       "0    0  \n",
       "1    0  \n",
       "2    0  \n",
       "3    1  "
      ]
     },
     "execution_count": 22,
     "metadata": {},
     "output_type": "execute_result"
    }
   ],
   "source": [
    "import numpy\n",
    "from sklearn import datasets, metrics\n",
    "from sklearn.naive_bayes import GaussianNB\n",
    "\n",
    "\n",
    "from sklearn.feature_extraction.text import CountVectorizer\n",
    "import pandas as pd\n",
    "\n",
    "\n",
    "vectorizer = CountVectorizer()\n",
    "\n",
    "docs = [ 'Jainil like football',\n",
    "    'Sports is good for health',\n",
    "     'Jainil like cricket too',\n",
    "     'Do you like football?']\n",
    "\n",
    "\n",
    "\n",
    "\n",
    "vectorizer = CountVectorizer() \n",
    "  \n",
    "vectorizer.fit(docs) \n",
    "  \n",
    "# Printing the identified Unique words along with their indices \n",
    "print(\"Vocabulary: \", vectorizer.vocabulary_) \n",
    "  \n",
    "# Encode the Document \n",
    "vector = vectorizer.transform(docs) \n",
    "  \n",
    "# Summarizing the Encoded Texts \n",
    "print(\"Encoded Document is:\") \n",
    "array = vector.toarray()\n",
    "print(array)\n",
    "\n",
    "col_list = [[None] for i in range(0,len(vectorizer.vocabulary_ ) )]\n",
    "\n",
    "\n",
    "doc_dict = vectorizer.vocabulary_\n",
    "for key in doc_dict:\n",
    "    col_list[doc_dict[key]] = key\n",
    "col_list\n",
    "\n",
    "df = pd.DataFrame(data = array,columns=col_list)\n",
    "df\n"
   ]
  },
  {
   "cell_type": "code",
   "execution_count": 31,
   "metadata": {},
   "outputs": [
    {
     "name": "stdout",
     "output_type": "stream",
     "text": [
      "  (0, 2)\t1\n",
      "  (0, 7)\t1\n",
      "  (0, 8)\t1\n",
      "  (1, 3)\t1\n",
      "  (1, 4)\t1\n",
      "  (1, 5)\t1\n",
      "  (1, 6)\t1\n",
      "  (1, 9)\t1\n",
      "  (2, 0)\t1\n",
      "  (2, 7)\t1\n",
      "  (2, 8)\t1\n",
      "  (2, 10)\t1\n",
      "  (3, 1)\t1\n",
      "  (3, 2)\t1\n",
      "  (3, 8)\t1\n",
      "  (3, 11)\t1\n"
     ]
    }
   ],
   "source": [
    "print(vector)"
   ]
  },
  {
   "cell_type": "code",
   "execution_count": null,
   "metadata": {},
   "outputs": [],
   "source": [
    "from sklearn.model_selection import train_test_split\n",
    "X_train, X_test, y_train, y_test = train_test_split(X,y,test_size=0.3) "
   ]
  },
  {
   "cell_type": "code",
   "execution_count": null,
   "metadata": {},
   "outputs": [],
   "source": [
    "from sklearn.naive_bayes import BernoulliNB\n",
    "clf = BernoulliNB()"
   ]
  },
  {
   "cell_type": "code",
   "execution_count": 27,
   "metadata": {},
   "outputs": [
    {
     "data": {
      "text/plain": [
       "array([[3, 4, 0, 1, 3, 0, 0, 1, 4, 4, 1, 2, 4, 2, 4, 3, 4, 2, 4, 2, 4, 1,\n",
       "        1, 0, 1, 1, 1, 1, 0, 4, 1, 0, 0, 3, 2, 1, 0, 3, 1, 1, 3, 4, 0, 1,\n",
       "        3, 4, 2, 4, 0, 3, 1, 2, 0, 4, 1, 2, 2, 1, 0, 1, 3, 4, 3, 1, 3, 0,\n",
       "        0, 2, 2, 1, 3, 4, 2, 0, 0, 1, 1, 3, 0, 0, 4, 2, 4, 3, 3, 0, 3, 4,\n",
       "        3, 4, 4, 4, 1, 0, 4, 2, 0, 2, 4, 1],\n",
       "       [1, 0, 2, 4, 4, 0, 4, 1, 4, 1, 0, 2, 3, 1, 2, 4, 4, 2, 2, 0, 1, 2,\n",
       "        2, 0, 1, 2, 4, 0, 1, 2, 1, 4, 2, 0, 0, 1, 0, 1, 3, 1, 1, 4, 4, 3,\n",
       "        0, 3, 0, 3, 1, 2, 4, 0, 0, 3, 1, 1, 0, 0, 4, 2, 3, 4, 2, 0, 3, 3,\n",
       "        1, 2, 4, 3, 0, 0, 4, 2, 4, 2, 0, 3, 0, 0, 4, 2, 1, 0, 4, 3, 0, 1,\n",
       "        2, 4, 4, 3, 3, 3, 3, 2, 3, 3, 4, 3],\n",
       "       [2, 4, 4, 0, 3, 3, 0, 3, 1, 0, 2, 2, 2, 0, 2, 1, 4, 0, 4, 4, 1, 3,\n",
       "        1, 4, 1, 2, 1, 0, 0, 2, 4, 1, 0, 0, 3, 1, 0, 4, 3, 2, 3, 4, 4, 3,\n",
       "        0, 0, 0, 4, 1, 4, 1, 2, 2, 4, 3, 4, 4, 0, 3, 2, 4, 3, 4, 2, 3, 0,\n",
       "        2, 1, 3, 2, 0, 1, 4, 1, 3, 3, 1, 2, 0, 2, 4, 0, 2, 4, 3, 4, 3, 0,\n",
       "        4, 2, 2, 4, 1, 2, 1, 1, 1, 0, 4, 4],\n",
       "       [2, 2, 3, 1, 4, 0, 0, 3, 2, 4, 1, 3, 1, 1, 2, 4, 0, 3, 0, 4, 2, 3,\n",
       "        1, 1, 4, 4, 0, 2, 1, 3, 0, 1, 0, 2, 2, 4, 3, 2, 2, 2, 0, 2, 0, 4,\n",
       "        1, 0, 2, 3, 0, 4, 3, 3, 3, 0, 3, 1, 2, 0, 1, 4, 2, 3, 4, 4, 2, 1,\n",
       "        2, 0, 3, 3, 2, 0, 0, 0, 0, 2, 4, 0, 4, 1, 2, 1, 2, 4, 1, 3, 1, 1,\n",
       "        2, 4, 1, 0, 2, 1, 2, 0, 0, 3, 4, 1],\n",
       "       [0, 4, 0, 3, 2, 4, 3, 2, 4, 2, 4, 0, 0, 4, 2, 2, 4, 2, 3, 0, 0, 4,\n",
       "        3, 4, 3, 3, 4, 0, 3, 1, 4, 4, 3, 2, 2, 2, 2, 2, 0, 2, 1, 2, 3, 0,\n",
       "        0, 1, 1, 3, 3, 3, 1, 3, 3, 3, 1, 3, 0, 4, 0, 2, 4, 4, 2, 0, 3, 2,\n",
       "        4, 0, 4, 2, 3, 4, 2, 4, 1, 3, 4, 3, 0, 3, 0, 4, 3, 0, 3, 1, 4, 4,\n",
       "        2, 2, 4, 2, 1, 2, 3, 1, 3, 3, 0, 4],\n",
       "       [3, 3, 3, 3, 0, 2, 3, 1, 3, 2, 3, 2, 2, 0, 4, 0, 1, 3, 0, 0, 0, 1,\n",
       "        2, 4, 4, 2, 0, 1, 0, 0, 2, 4, 3, 0, 2, 1, 3, 3, 1, 4, 4, 4, 0, 1,\n",
       "        0, 1, 2, 2, 4, 2, 4, 0, 2, 4, 4, 1, 1, 1, 1, 4, 3, 4, 1, 1, 1, 2,\n",
       "        4, 3, 2, 3, 3, 2, 3, 0, 2, 0, 1, 0, 0, 3, 4, 0, 0, 0, 0, 1, 0, 1,\n",
       "        3, 3, 4, 0, 1, 0, 3, 2, 1, 1, 0, 0]])"
      ]
     },
     "execution_count": 27,
     "metadata": {},
     "output_type": "execute_result"
    }
   ],
   "source": [
    "import numpy as np\n",
    "rng = np.random.RandomState(1)\n",
    "X = rng.randint(5, size=(6, 100))\n",
    "X"
   ]
  },
  {
   "cell_type": "code",
   "execution_count": 29,
   "metadata": {},
   "outputs": [
    {
     "data": {
      "text/plain": [
       "array([1, 2, 3, 4, 4, 5])"
      ]
     },
     "execution_count": 29,
     "metadata": {},
     "output_type": "execute_result"
    }
   ],
   "source": [
    "Y = np.array([1, 2, 3, 4, 4, 5])\n",
    "Y"
   ]
  },
  {
   "cell_type": "code",
   "execution_count": null,
   "metadata": {},
   "outputs": [],
   "source": [
    "X,y=datasets.load_iris(return_X_y=True)\n",
    "# print(X)\n",
    "# print(y)\n",
    "X_train=X[range(0,150,2),:]   \n",
    "y_train=y[range(0,150,2)]\n",
    "X_test=X[range(1,150,2),:]\n",
    "y_test=y[range(1,150,2)]\n",
    "clf = GaussianNB() #creating instance of a classifier #BernoulliNB() for BernouliNB\n",
    "#MultinomialNB() for MultinomialNB()\n",
    "clf.fit(X_train, y_train)\n",
    "prediction = clf.predict(X_test) #predict using the learnt classifier\n",
    "print(\"############### Predictions #################\")\n",
    "print(prediction)\n",
    "print(\"#############################################\")\n",
    "print(\"Accuracy:\",metrics.accuracy_score(y_test, prediction, normalize=True))\n",
    "print(metrics.classification_report(y_test, prediction))\n",
    "print(metrics.confusion_matrix(y_test, prediction))"
   ]
  },
  {
   "cell_type": "code",
   "execution_count": null,
   "metadata": {},
   "outputs": [],
   "source": [
    "d_iris(return_X_y=True) #Loading the Iris Dataset\n",
    "X_train=X[range(0,150,2),:]\n",
    "y_train=y[range(0,150,2)]\n",
    "X_test=X[range(1,150,2),:]\n",
    "y_test=y[range(1,150,2)]\n",
    "#variable for specifying number of nearest neighbors to be used\n",
    "n_neighbors=3\n",
    "weights='uniform' #or weights='distance'\n",
    "#creating instance of a classifier\n",
    "clf = neighbors.KNeighborsClassifier(n_neighbors, weights)\n",
    "# other argument is metric (default is 'minkowski'. There are many other possibilities including 'euclidean')\n",
    "#Other useful argument is p which controls the power of minkowski distance. Default is 2\n",
    "clf.fit(X_train, y_train)\n",
    "prediction = clf.predict(X_test) #predict using the learnt classifier\n",
    "print(\"############### Predictions #################\")\n",
    "print(prediction)\n",
    "print(\"#############################################\")\n",
    "print(\"Accuracy = \", metrics.accuracy_score(y_test, prediction, normalize=True))\n",
    "print(metrics.classification_report(y_test, prediction))\n",
    "print(metrics.confusion_matrix(y_test, prediction))"
   ]
  }
 ],
 "metadata": {
  "kernelspec": {
   "display_name": "Python 3",
   "language": "python",
   "name": "python3"
  },
  "language_info": {
   "codemirror_mode": {
    "name": "ipython",
    "version": 3
   },
   "file_extension": ".py",
   "mimetype": "text/x-python",
   "name": "python",
   "nbconvert_exporter": "python",
   "pygments_lexer": "ipython3",
   "version": "3.8.3"
  }
 },
 "nbformat": 4,
 "nbformat_minor": 4
}
