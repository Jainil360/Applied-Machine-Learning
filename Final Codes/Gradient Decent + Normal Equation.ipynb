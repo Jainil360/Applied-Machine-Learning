{
 "cells": [
  {
   "cell_type": "markdown",
   "metadata": {},
   "source": [
    "# Practical 2.1 Gradient Desent \n",
    "\n",
    "<!--    <img src=\"gd.png\" height=\"50%\" width=\"60%\"> -->"
   ]
  },
  {
   "cell_type": "markdown",
   "metadata": {},
   "source": [
    "<b>Name:</b> Patel Jaynil Sunilkumar<br>\n",
    "<b>Roll No:</b> 20MCED08<br>\n",
    "<b>Course Name:</b> 3CS1111 Applied Machine Learning\n",
    "\n",
    "\n"
   ]
  },
  {
   "cell_type": "code",
   "execution_count": 9,
   "metadata": {},
   "outputs": [
    {
     "name": "stdout",
     "output_type": "stream",
     "text": [
      "Type of X_train: <class 'numpy.ndarray'> Shape of X_train: (400, 14)\n",
      "Type of X_test: <class 'numpy.ndarray'> Shape of X_test: (106, 14)\n",
      "Type of theta: <class 'numpy.ndarray'> Shape of Theta: (14,)\n"
     ]
    }
   ],
   "source": [
    "import numpy as np\n",
    "from sklearn import datasets, metrics\n",
    "from sklearn.preprocessing import StandardScaler\n",
    "\n",
    "X, y = datasets.load_boston(return_X_y=True)\n",
    "X_train_temp1=X[0:400,:]\n",
    "X_train=np.zeros((X_train_temp1.shape[0],X_train_temp1.shape[1]+1))\n",
    "X_train[:,0]=np.ones((X_train_temp1.shape[0]))\n",
    "X_train[:,1:]=X_train_temp1\n",
    "print(\"Type of X_train:\", type(X_train), \"Shape of X_train:\", X_train.shape)\n",
    "y_train=y[0:400]\n",
    "X_test_temp1=X[400:506,:]\n",
    "X_test=np.zeros((X_test_temp1.shape[0],X_test_temp1.shape[1]+1))\n",
    "X_test[:,0]=np.ones((X_test_temp1.shape[0]))\n",
    "X_test[:,1:]=X_test_temp1\n",
    "print(\"Type of X_test:\", type(X_test), \"Shape of X_test:\", X_test.shape)\n",
    "y_test=y[400:506]\n",
    "scaler=StandardScaler()\n",
    "scaler.fit(X_train[:,1:])\n",
    "X_train[:,1:]=scaler.transform(X_train[:,1:])\n",
    "X_test[:,1:]=scaler.transform(X_test[:,1:])\n",
    "\n",
    "theta=np.random.uniform(0,1,size=(X_train.shape[1]))\n",
    "print(\"Type of theta:\", type(theta), \"Shape of Theta:\", theta.shape)\n",
    "\n",
    "                 \n",
    "m=X_train.shape[0]              #number of samples\n",
    "n=X_train.shape[1]              \n",
    "\n",
    "\n",
    "iterations_001 =[]\n",
    "error_mse_001 = []\n",
    "iterations=[]\n",
    "\n",
    "n_iterations=100\n",
    "iterations.extend(range(n_iterations))\n",
    "\n",
    "\n",
    "def train(niterations, alpha, X_train, y_train, theta=np.random.uniform(0,1,size=(X_train.shape[1]))):\n",
    "    error_mse=[]   \n",
    "    \n",
    "    for i in range(niterations):\n",
    "        update=np.zeros(X_train.shape[1])                       #update is an array of size 14\n",
    "        ypred=np.dot(X_train,theta)                             #y = theta_T.X\n",
    "        error=ypred - y_train                                   #find error\n",
    "        for j in range(n):                                      #iterate over each all values(400) in each attribute\n",
    "            update[j]=np.sum(error*(X_train.T)[j])              #update[j] =(h-y).x       (400)\n",
    "            theta = theta - (1/m)*(alpha)*update           \n",
    "        mse = metrics.mean_squared_error(y_train,ypred)    #updated values of theta\n",
    "        error_mse.append(metrics.mean_squared_error(y_train,ypred))\n",
    "        #error_mse\n",
    "    #return theta\n",
    "    return  error_mse\n",
    "\n",
    "def train1(niterations, alpha, X_train, y_train, theta=np.random.uniform(0,1,size=(X_train.shape[1]))):\n",
    "    error_mse=[]   \n",
    "    \n",
    "    for i in range(niterations):\n",
    "        update=np.zeros(X_train.shape[1])                       #update is an array of size 14\n",
    "        ypred=np.dot(X_train,theta)                             #y = theta_T.X\n",
    "        error=ypred - y_train                                   #find error\n",
    "        for j in range(n):                                      #iterate over each all values(400) in each attribute\n",
    "            update[j]=np.sum(error*(X_train.T)[j])              #update[j] =(h-y).x       (400)\n",
    "            theta = theta - (1/m)*(alpha)*update           \n",
    "        mse = metrics.mean_squared_error(y_train,ypred)    #updated values of theta\n",
    "        error_mse.append(metrics.mean_squared_error(y_train,ypred))\n",
    "        #error_mse\n",
    "    #return theta\n",
    "    return  mse\n",
    "\n",
    "#alpha_list = [0.001,0.005,0.07,0.01,0.05]\n",
    "alpha_list = [0.001,0.005,0.006,0.008,0.01]\n",
    "alpha_default = 0.01\n",
    "\n",
    "iter_list = [10,100,1000,5000,10000,15000]\n",
    "mse_list=[]\n",
    "mse_list_itera = []\n",
    "\n",
    "\n",
    "for alpha in alpha_list:\n",
    "    mse_list.append(train(n_iterations, alpha, X_train, y_train, theta))\n",
    "    \n",
    "for itera in iter_list:\n",
    "    mse_list_itera.append(train1(itera, alpha_default, X_train, y_train, theta))    \n",
    "    \n",
    "    "
   ]
  },
  {
   "cell_type": "code",
   "execution_count": 10,
   "metadata": {},
   "outputs": [
    {
     "data": {
      "text/plain": [
       "[80.57028516669797,\n",
       " 25.77026766191904,\n",
       " 22.31193088356102,\n",
       " 22.305225584163463,\n",
       " 22.305225584163445,\n",
       " 22.305225584163445]"
      ]
     },
     "execution_count": 10,
     "metadata": {},
     "output_type": "execute_result"
    }
   ],
   "source": [
    "mse_list_itera"
   ]
  },
  {
   "cell_type": "markdown",
   "metadata": {},
   "source": [
    "# Graph 1 (Alpha vs MSE)"
   ]
  },
  {
   "cell_type": "code",
   "execution_count": 11,
   "metadata": {},
   "outputs": [],
   "source": [
    "import matplotlib.pyplot as plt\n",
    "%matplotlib inline\n"
   ]
  },
  {
   "cell_type": "code",
   "execution_count": 12,
   "metadata": {
    "scrolled": true
   },
   "outputs": [
    {
     "data": {
      "image/png": "[encoded data removed]",
      "text/plain": [
       "<Figure size 432x288 with 1 Axes>"
      ]
     },
     "metadata": {
      "needs_background": "light"
     },
     "output_type": "display_data"
    }
   ],
   "source": [
    "iterations=[]\n",
    "iterations.extend(range(n_iterations))\n",
    "plt.xlabel('Alpha Value')\n",
    "plt.ylabel('MSE Value')\n",
    "plt.title('Alpha vs MSE')\n",
    "\n",
    "alpha_001 = plt.plot(iterations, train(100, 0.001, X_train, y_train), label=\"alpha=0.001\")\n",
    "\n",
    "alpha_005 = plt.plot(iterations,train(100, 0.005, X_train, y_train), label=\"alpha=0.005\")\n",
    "alpha_007 = plt.plot(iterations,train(100, 0.007, X_train, y_train), label=\"alpha=0.007\")\n",
    "alpha_01 = plt.plot(iterations,train(100, 0.01, X_train, y_train), label=\"alpha=0.01\")\n",
    "alpha_05 = plt.plot(iterations,train(100, 0.05, X_train, y_train), label=\"alpha=0.05\")\n",
    "\n",
    "plt.legend(loc='best')\n",
    "plt.grid()\n",
    "plt.show()"
   ]
  },
  {
   "cell_type": "markdown",
   "metadata": {},
   "source": [
    "# Graph 2 (Iteration vs MSE)"
   ]
  },
  {
   "cell_type": "code",
   "execution_count": 15,
   "metadata": {},
   "outputs": [
    {
     "data": {
      "image/png": "[encoded data removed]",
      "text/plain": [
       "<Figure size 432x288 with 1 Axes>"
      ]
     },
     "metadata": {
      "needs_background": "light"
     },
     "output_type": "display_data"
    }
   ],
   "source": [
    "plt.xlabel('Iteration Value')\n",
    "plt.ylabel('MSE Value')\n",
    "plt.title('Iteration vs MSE')\n",
    "\n",
    "\n",
    "plt.plot(iter_list,mse_list_itera,marker='o')\n",
    "for ite,mse in zip(iter_list,mse_list_itera):\n",
    "    plt.plot(ite, mse,marker='o')\n",
    "    \n",
    "\n",
    "plt.grid()\n",
    "plt.show()"
   ]
  },
  {
   "cell_type": "markdown",
   "metadata": {},
   "source": [
    "# Practical 2.2 Normal Equation \n",
    "\n",
    "   <img src=\"ne.jpeg\" height=\"80%\" width=\"60%\">"
   ]
  },
  {
   "cell_type": "code",
   "execution_count": 75,
   "metadata": {},
   "outputs": [
    {
     "name": "stdout",
     "output_type": "stream",
     "text": [
      "Type of X_train: <class 'numpy.ndarray'> Shape of X_train: (400, 14)\n",
      "Type of X_test: <class 'numpy.ndarray'> Shape of X_test: (106, 14)\n",
      "\n",
      "MAE: 5.142232214464803\n",
      "\n",
      "MSE: 37.89377859959266\n"
     ]
    }
   ],
   "source": [
    "import numpy as np\n",
    "from sklearn import datasets, metrics\n",
    "from numpy.linalg import inv, pinv, LinAlgError\n",
    "\n",
    "X, y = datasets.load_boston(return_X_y=True)\n",
    "\n",
    "X_train_temp1=X[0:400,:]\n",
    "X_train=np.zeros((X_train_temp1.shape[0],X_train_temp1.shape[1]+1))\n",
    "X_train[:,0]=np.ones((X_train_temp1.shape[0]))\n",
    "X_train[:,1:]=X_train_temp1\n",
    "\n",
    "print(\"Type of X_train:\", type(X_train), \"Shape of X_train:\", X_train.shape)\n",
    "\n",
    "y_train=y[0:400]\n",
    "X_test_temp1=X[400:506,:]\n",
    "X_test=np.zeros((X_test_temp1.shape[0],X_test_temp1.shape[1]+1))\n",
    "X_test[:,0]=np.ones((X_test_temp1.shape[0]))\n",
    "X_test[:,1:]=X_test_temp1\n",
    "\n",
    "print(\"Type of X_test:\", type(X_test), \"Shape of X_test:\", X_test.shape)\n",
    "\n",
    "y_test=y[400:506]\n",
    "\n",
    "theta=np.zeros(X_train.shape[1])\n",
    "try:\n",
    "  XTXi=inv(np.dot(X_train.T,X_train))\n",
    "except LinAlgError:\n",
    "  XTXi=pinv(np.dot(X_train.T,X_train))\n",
    "XTy=np.dot(X_train.T,y_train)\n",
    "theta=np.dot(XTXi,XTy)\n",
    "#print(\"Thetas:\", theta)\n",
    "#print(\"Thetas Shape:\", theta.shape)\n",
    "predictions=np.dot(theta,X_test.T)\n",
    "\n",
    "print(\"\\nMAE:\", metrics.mean_absolute_error(y_true=y_test,y_pred=predictions))\n",
    "print(\"\\nMSE:\", metrics.mean_squared_error(y_true=y_test,y_pred=predictions))"
   ]
  },
  {
   "cell_type": "markdown",
   "metadata": {},
   "source": [
    "# Observation"
   ]
  },
  {
   "cell_type": "markdown",
   "metadata": {},
   "source": [
    " <p> While using gradient descent as we can decrease the value of the alpha curve also getting smoother and quickly decrease the value of MSE.\n",
    "\n",
    "The no of iterations also affecting the value of MSE like when we increase the value of iterations the MSE starts decreasing after one point it's settle to one number and then we try to increase the number of iteration it's doesn't affect the MSE.</p>"
   ]
  }
 ],
 "metadata": {
  "kernelspec": {
   "display_name": "Python 3",
   "language": "python",
   "name": "python3"
  },
  "language_info": {
   "codemirror_mode": {
    "name": "ipython",
    "version": 3
   },
   "file_extension": ".py",
   "mimetype": "text/x-python",
   "name": "python",
   "nbconvert_exporter": "python",
   "pygments_lexer": "ipython3",
   "version": "3.8.3"
  }
 },
 "nbformat": 4,
 "nbformat_minor": 4
}
