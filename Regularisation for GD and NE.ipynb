{
 "cells": [
  {
   "cell_type": "markdown",
   "metadata": {},
   "source": [
    "# AML Practical 3.1"
   ]
  },
  {
   "cell_type": "markdown",
   "metadata": {},
   "source": [
    "<b>Name:</b> Patel Jaynil Sunilkumar<br>\n",
    "<b>Roll No:</b> 20MCED08<br>\n",
    "<b>Course Name:</b> 3CS1111 Applied Machine Learning\n",
    "\n",
    "\n"
   ]
  },
  {
   "cell_type": "markdown",
   "metadata": {},
   "source": [
    "## 1) Regularisation for GD "
   ]
  },
  {
   "cell_type": "code",
   "execution_count": 3,
   "metadata": {},
   "outputs": [
    {
     "name": "stdout",
     "output_type": "stream",
     "text": [
      "Type of X_train: <class 'numpy.ndarray'> Shape of X_train: (400, 14)\n",
      "Type of X_test: <class 'numpy.ndarray'> Shape of X_test: (106, 14)\n",
      "Type of theta: <class 'numpy.ndarray'> Shape of Theta: (14,)\n"
     ]
    }
   ],
   "source": [
    "import numpy as np\n",
    "from sklearn import datasets, metrics\n",
    "from sklearn.preprocessing import StandardScaler\n",
    "import matplotlib.pyplot as plt\n",
    "X, y = datasets.load_boston(return_X_y=True)\n",
    "X_train_temp1=X[0:400,:]\n",
    "X_train=np.zeros((X_train_temp1.shape[0],X_train_temp1.shape[1]+1))\n",
    "X_train[:,0]=np.ones((X_train_temp1.shape[0]))\n",
    "X_train[:,1:]=X_train_temp1\n",
    "print(\"Type of X_train:\", type(X_train), \"Shape of X_train:\", X_train.shape)\n",
    "y_train=y[0:400]\n",
    "X_test_temp1=X[400:506,:]\n",
    "X_test=np.zeros((X_test_temp1.shape[0],X_test_temp1.shape[1]+1))\n",
    "X_test[:,0]=np.ones((X_test_temp1.shape[0]))\n",
    "X_test[:,1:]=X_test_temp1\n",
    "print(\"Type of X_test:\", type(X_test), \"Shape of X_test:\", X_test.shape)\n",
    "y_test=y[400:506]\n",
    "scaler=StandardScaler()\n",
    "scaler.fit(X_train[:,1:])\n",
    "X_train[:,1:]=scaler.transform(X_train[:,1:])\n",
    "X_test[:,1:]=scaler.transform(X_test[:,1:])\n",
    "#In this cell, we implement the algorithm\n",
    "theta=np.random.uniform(0,1,size=(X_train.shape[1]))\n",
    "print(\"Type of theta:\", type(theta), \"Shape of Theta:\", theta.shape)\n",
    "niterations=100\n",
    "alpha=0.01\n",
    "m=X_train.shape[0]\n",
    "n=X_train.shape[1] \n",
    "lam_values = []\n",
    "    \n",
    "error_train=[]\n",
    "error_test = []   \n",
    "lam_values=[l for l in range(10,1000,50)]\n",
    "\n",
    "\n",
    "def re_error(niterations, alpha, X_train, y_train, X_test, y_test, theta):\n",
    "                    \n",
    "                    for l in lam_values:\n",
    "                                for i in range(niterations):\n",
    "                                        update=np.zeros(X_train.shape[1]) #update is an arrayof size 14\n",
    "                                        ypred=np.dot(X_train,theta) #y = theta_T.X\n",
    "                                        error=ypred - y_train #find error\n",
    "                                        for j in range(n): \n",
    "                                                        update[j]=np.sum(error*(X_train.T)[j]) \n",
    "\n",
    "                                                     #updated values of theta\n",
    "                                                        theta[0] = theta[0] - (1/m)*(alpha)*update[0]\n",
    "                                                        theta[1:] = theta[1:]*(1-(alpha*(l/m))) - ((1/m)*(alpha)*update[1:])\n",
    "\n",
    "                                error_train.append(metrics.mean_squared_error(y_train,ypred))\n",
    "                                #print(\"train: {0}\".format(metrics.mean_squared_error(y_train,ypred)))\n",
    "                                #test error\n",
    "                                predictions=np.dot(X_test, theta)\n",
    "                                #error_mse\n",
    "                                error_test.append(metrics.mean_squared_error(y_test,predictions))\n",
    "                                #print(\"Test: {0}\".format(metrics.mean_squared_error(y_test,predictions)))\n",
    "\n",
    "                    return error_train, error_test\n",
    "\n",
    "train, test =re_error(100, alpha, X_train, y_train,X_test, y_test, theta)\n"
   ]
  },
  {
   "cell_type": "markdown",
   "metadata": {},
   "source": [
    "# Graph "
   ]
  },
  {
   "cell_type": "code",
   "execution_count": 4,
   "metadata": {},
   "outputs": [],
   "source": [
    "import matplotlib.pyplot as plt\n",
    "%matplotlib inline\n"
   ]
  },
  {
   "cell_type": "code",
   "execution_count": 6,
   "metadata": {
    "scrolled": true
   },
   "outputs": [
    {
     "data": {
      "image/png": "[encoded data removed]",
      "text/plain": [
       "<Figure size 432x288 with 1 Axes>"
      ]
     },
     "metadata": {
      "needs_background": "light"
     },
     "output_type": "display_data"
    }
   ],
   "source": [
    "plt.plot(lam_values, train, label=\"training error\")\n",
    "plt.plot(lam_values, test, label=\"testing error\")\n",
    "plt.xlabel('Lambda values')\n",
    "plt.ylabel('MSE value')\n",
    "\n",
    "plt.legend()\n",
    "plt.show()\n"
   ]
  },
  {
   "cell_type": "markdown",
   "metadata": {},
   "source": [
    "# Observation"
   ]
  },
  {
   "cell_type": "markdown",
   "metadata": {},
   "source": [
    "<p>As we can observe from the graph first training error is low compared to the testing error and with increasing the lambda value the training error also starts increasing and the testing error starts decreases.\n",
    "</p>"
   ]
  },
  {
   "cell_type": "markdown",
   "metadata": {},
   "source": [
    "## 2) Regularisation for NE"
   ]
  },
  {
   "cell_type": "code",
   "execution_count": 17,
   "metadata": {},
   "outputs": [],
   "source": [
    "import numpy as np\n",
    "from sklearn import datasets, metrics\n",
    "from numpy.linalg import inv, pinv, LinAlgError\n",
    "\n",
    "X, y = datasets.load_boston(return_X_y=True)"
   ]
  },
  {
   "cell_type": "code",
   "execution_count": 18,
   "metadata": {},
   "outputs": [
    {
     "name": "stdout",
     "output_type": "stream",
     "text": [
      "Type of X_train: <class 'numpy.ndarray'> Shape of X_train: (400, 14)\n"
     ]
    }
   ],
   "source": [
    "X_train_temp1=X[0:400,:]\n",
    "X_train=np.zeros((X_train_temp1.shape[0],X_train_temp1.shape[1]+1))\n",
    "X_train[:,0]=np.ones((X_train_temp1.shape[0]))\n",
    "X_train[:,1:]=X_train_temp1\n",
    "print(\"Type of X_train:\", type(X_train), \"Shape of X_train:\", X_train.shape)\n",
    "y_train=y[0:400]\n"
   ]
  },
  {
   "cell_type": "code",
   "execution_count": 19,
   "metadata": {},
   "outputs": [
    {
     "name": "stdout",
     "output_type": "stream",
     "text": [
      "Type of X_test: <class 'numpy.ndarray'> Shape of X_test: (106, 14)\n"
     ]
    }
   ],
   "source": [
    "X_test_temp1=X[400:506,:]\n",
    "X_test=np.zeros((X_test_temp1.shape[0],X_test_temp1.shape[1]+1))\n",
    "X_test[:,0]=np.ones((X_test_temp1.shape[0]))\n",
    "X_test[:,1:]=X_test_temp1\n",
    "print(\"Type of X_test:\", type(X_test), \"Shape of X_test:\", X_test.shape)\n",
    "y_test=y[400:506]\n"
   ]
  },
  {
   "cell_type": "code",
   "execution_count": 20,
   "metadata": {},
   "outputs": [],
   "source": [
    "lam_values1=[l for l in range(10,1000,50)]\n",
    "error_train=[]\n",
    "error_test = []"
   ]
  },
  {
   "cell_type": "code",
   "execution_count": 21,
   "metadata": {},
   "outputs": [],
   "source": [
    "side_matrix = np.zeros((X_train.shape[1],X_train.shape[1]))\n",
    "for i in range(1, X_train.shape[1]):\n",
    "     side_matrix[i,i]=1"
   ]
  },
  {
   "cell_type": "code",
   "execution_count": 22,
   "metadata": {},
   "outputs": [],
   "source": [
    "def re_error1(theta=np.zeros(X_train.shape[1])):  \n",
    "    for l in lam_values1:\n",
    "        mat = l*side_matrix\n",
    "        try:\n",
    "            XTXi=inv(np.dot(X_train.T,X_train)+mat)\n",
    "            #print(mat)\n",
    "        except LinAlgError:\n",
    "            XTXi=pinv(np.dot(X_train.T,X_train)+mat)\n",
    "        XTy=np.dot(X_train.T,y_train)\n",
    "        theta=np.dot(XTXi,XTy)\n",
    "        ypred = np.dot(theta,X_train.T)\n",
    "        #print(\"train: {0}\".format(metrics.mean_squared_error(y_train,ypred)))\n",
    "        predictions=np.dot(theta,X_test.T)\n",
    "        #print(\"Test: {0}\".format(metrics.mean_squared_error(y_test,predictions)))\n",
    "        error_train.append(metrics.mean_squared_error(y_train,ypred))\n",
    "        error_test.append(metrics.mean_squared_error(y_test,predictions))\n",
    "    return  error_train, error_test, theta\n",
    "\n",
    "train1, test1, theta =re_error1()"
   ]
  },
  {
   "cell_type": "markdown",
   "metadata": {},
   "source": [
    "# Graph"
   ]
  },
  {
   "cell_type": "code",
   "execution_count": 23,
   "metadata": {},
   "outputs": [],
   "source": [
    "import matplotlib.pyplot as plt\n",
    "%matplotlib inline"
   ]
  },
  {
   "cell_type": "code",
   "execution_count": 24,
   "metadata": {},
   "outputs": [
    {
     "data": {
      "image/png": "[encoded data removed]",
      "text/plain": [
       "<Figure size 432x288 with 1 Axes>"
      ]
     },
     "metadata": {
      "needs_background": "light"
     },
     "output_type": "display_data"
    }
   ],
   "source": [
    "plt.plot(lam_values1, train1, label=\"training error\")\n",
    "plt.plot(lam_values1, test1, label=\"testing error\")\n",
    "plt.xlabel('Lambda values')\n",
    "plt.ylabel('MSE value')\n",
    "\n",
    "plt.legend()\n",
    "plt.show()\n"
   ]
  },
  {
   "cell_type": "markdown",
   "metadata": {},
   "source": [
    "# Observation"
   ]
  },
  {
   "cell_type": "markdown",
   "metadata": {},
   "source": [
    "<p>As we can see in above graph we took lambda values in range 10,1000 with interval of 50.\n",
    "\n",
    "Again like the gradient decent here also initially the training error is low when the lambda value is low and with increasing in lambda value it's also cause the increase in the training error(MSE) and for testing error it is decreasing with the increased lambda value.</p>"
   ]
  }
 ],
 "metadata": {
  "kernelspec": {
   "display_name": "Python 3",
   "language": "python",
   "name": "python3"
  },
  "language_info": {
   "codemirror_mode": {
    "name": "ipython",
    "version": 3
   },
   "file_extension": ".py",
   "mimetype": "text/x-python",
   "name": "python",
   "nbconvert_exporter": "python",
   "pygments_lexer": "ipython3",
   "version": "3.8.3"
  }
 },
 "nbformat": 4,
 "nbformat_minor": 4
}
